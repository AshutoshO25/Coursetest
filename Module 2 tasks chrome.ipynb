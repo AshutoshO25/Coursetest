{
  "metadata": {
    "language_info": {
      "codemirror_mode": {
        "name": "python",
        "version": 3
      },
      "file_extension": ".py",
      "mimetype": "text/x-python",
      "name": "python",
      "nbconvert_exporter": "python",
      "pygments_lexer": "ipython3",
      "version": "3.8"
    },
    "kernelspec": {
      "name": "python",
      "display_name": "Pyolite",
      "language": "python"
    }
  },
  "nbformat_minor": 4,
  "nbformat": 4,
  "cells": [
    {
      "cell_type": "code",
      "source": "#SE_EXTC_ASHUTOSHOVHAL #MODULE2TASKS",
      "metadata": {},
      "execution_count": null,
      "outputs": []
    },
    {
      "cell_type": "code",
      "source": "#Q1\n#bytearray",
      "metadata": {
        "trusted": true
      },
      "execution_count": null,
      "outputs": []
    },
    {
      "cell_type": "code",
      "source": "str = \"PHCET\"\n\n# encoding the string with unicode 8 and 16\narray1 = bytearray(str, 'utf-8')\narray2 = bytearray(str, 'utf-16')\n\nprint(array1)\nprint(array2)\n",
      "metadata": {
        "trusted": true
      },
      "execution_count": 38,
      "outputs": [
        {
          "name": "stdout",
          "text": "bytearray(b'PHCET')\nbytearray(b'\\xff\\xfeP\\x00H\\x00C\\x00E\\x00T\\x00')\n",
          "output_type": "stream"
        }
      ]
    },
    {
      "cell_type": "code",
      "source": "array = bytearray()\n  \nprint(array)",
      "metadata": {
        "trusted": true
      },
      "execution_count": 39,
      "outputs": [
        {
          "name": "stdout",
          "text": "bytearray(b'')\n",
          "output_type": "stream"
        }
      ]
    },
    {
      "cell_type": "code",
      "source": "#Range",
      "metadata": {},
      "execution_count": null,
      "outputs": []
    },
    {
      "cell_type": "code",
      "source": "for i in range(1, 20):\n    print(i, end=\" \")\nprint()\n \n# number from 5 t0 20\nfor i in range(5, 20):\n    print(i, end=\" \")",
      "metadata": {
        "trusted": true
      },
      "execution_count": 40,
      "outputs": [
        {
          "name": "stdout",
          "text": "1 2 3 4 5 6 7 8 9 10 11 12 13 14 15 16 17 18 19 \n5 6 7 8 9 10 11 12 13 14 15 16 17 18 19 ",
          "output_type": "stream"
        }
      ]
    },
    {
      "cell_type": "code",
      "source": "sum = 0\nfor i in range(1, 11):\n    sum = sum + i\nprint(\"Sum of first 10 natural number :\", sum)",
      "metadata": {
        "trusted": true
      },
      "execution_count": 41,
      "outputs": [
        {
          "name": "stdout",
          "text": "Sum of first 10 natural number : 55\n",
          "output_type": "stream"
        }
      ]
    },
    {
      "cell_type": "code",
      "source": "#set",
      "metadata": {},
      "execution_count": null,
      "outputs": []
    },
    {
      "cell_type": "code",
      "source": "myset = set([\"a\", \"b\", \"c\"])\nprint(myset)",
      "metadata": {
        "trusted": true
      },
      "execution_count": 42,
      "outputs": [
        {
          "name": "stdout",
          "text": "{'a', 'c', 'b'}\n",
          "output_type": "stream"
        }
      ]
    },
    {
      "cell_type": "code",
      "source": "people = {\"Ashutosh\", \"Rajesh\", \"Disha\", \"Riya\", \"Swarali\"}\n \nprint(\"People:\", end = \" \")\nprint(people)",
      "metadata": {
        "trusted": true
      },
      "execution_count": 43,
      "outputs": [
        {
          "name": "stdout",
          "text": "People: {'Disha', 'Rajesh', 'Riya', 'Swarali', 'Ashutosh'}\n",
          "output_type": "stream"
        }
      ]
    },
    {
      "cell_type": "code",
      "source": "#Stringfunctions",
      "metadata": {},
      "execution_count": null,
      "outputs": []
    },
    {
      "cell_type": "code",
      "source": "#len",
      "metadata": {},
      "execution_count": null,
      "outputs": []
    },
    {
      "cell_type": "code",
      "source": "def findLength(string):\n  \n    count = 0\n  \n    for i in string:\n        count+= 1\n    \n    return count\n  \n\nstring = \"Welcomeinprogramingworld\"\nprint(findLength(string))\n",
      "metadata": {
        "trusted": true
      },
      "execution_count": 44,
      "outputs": [
        {
          "name": "stdout",
          "text": "24\n",
          "output_type": "stream"
        }
      ]
    },
    {
      "cell_type": "code",
      "source": "#countsort",
      "metadata": {},
      "execution_count": null,
      "outputs": []
    },
    {
      "cell_type": "code",
      "source": "def countingSort(array):\n    size = len(array)\n    output = [0] * size\n\n    count = [0] * 10\n\n    \n    for i in range(0, size):\n        count[array[i]] += 1\n\n    \n    for i in range(1, 10):\n        count[i] += count[i - 1]\n\n    \n    i = size - 1\n    while i >= 0:\n        output[count[array[i]] - 1] = array[i]\n        count[array[i]] -= 1\n        i -= 1\n\n    \n    for i in range(0, size):\n        array[i] = output[i]\n\n\ndata = [4, 2, 2, 8, 3, 3, 1]\ncountingSort(data)\nprint(\"Sorted Array in Ascending Order: \")\nprint(data)",
      "metadata": {
        "trusted": true
      },
      "execution_count": 45,
      "outputs": [
        {
          "name": "stdout",
          "text": "Sorted Array in Ascending Order: \n[1, 2, 2, 3, 3, 4, 8]\n",
          "output_type": "stream"
        }
      ]
    },
    {
      "cell_type": "code",
      "source": "#lower",
      "metadata": {},
      "execution_count": null,
      "outputs": []
    },
    {
      "cell_type": "code",
      "source": "text = 'PytHoN PrOgRAm'\n\nprint(\"Original String:\")\nprint(text)\n\n# lower() function to convert\n# string to lower_case\nprint(\"\\nConverted String:\")\nprint(text.lower())\n",
      "metadata": {
        "trusted": true
      },
      "execution_count": 46,
      "outputs": [
        {
          "name": "stdout",
          "text": "Original String:\nPytHoN PrOgRAm\n\nConverted String:\npython program\n",
          "output_type": "stream"
        }
      ]
    },
    {
      "cell_type": "code",
      "source": "#Q5",
      "metadata": {},
      "execution_count": null,
      "outputs": []
    },
    {
      "cell_type": "code",
      "source": "s=(10,2,3, 4, 5, 88)\n\nprint(\"No. of items in set:\", n)\n\nprint(\"Maximum no. in the set:\", max(s))\n\nprint(\"Minimum no. in the set:\", min(s))\n\ns=(10,2,3, 4, 5, 88)\nSum = sum(s)\nprint(\"Sum of all elements in the set:\", Sum)\n\ns=(10,2,3, 4, 5, 88)\nprint(\"Sorted set from s:\", sorted(s))\n\ns=(10,2,3, 4, 5, 88)\nelement_in_set = 100 in s\nprint(element_in_set)\n\ns=(10,2,3, 4, 5, 88)\nelement_in_set = -3 in s\nprint(element_in_set)\n",
      "metadata": {
        "trusted": true
      },
      "execution_count": 37,
      "outputs": [
        {
          "name": "stdout",
          "text": "No. of items in set: 6\nMaximum no. in the set: 88\nMinimum no. in the set: 2\nSum of all elements in the set: 112\nSorted set from s: [2, 3, 4, 5, 10, 88]\nFalse\nFalse\n",
          "output_type": "stream"
        }
      ]
    },
    {
      "cell_type": "code",
      "source": "",
      "metadata": {},
      "execution_count": null,
      "outputs": []
    },
    {
      "cell_type": "code",
      "source": "",
      "metadata": {},
      "execution_count": null,
      "outputs": []
    },
    {
      "cell_type": "code",
      "source": "",
      "metadata": {},
      "execution_count": null,
      "outputs": []
    }
  ]
}